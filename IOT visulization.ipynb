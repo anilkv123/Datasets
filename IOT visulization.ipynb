{
 "cells": [
  {
   "cell_type": "code",
   "execution_count": 4,
   "metadata": {},
   "outputs": [
    {
     "data": {
      "image/png": "[encoded data removed]",
      "text/plain": [
       "<Figure size 360x360 with 1 Axes>"
      ]
     },
     "metadata": {
      "needs_background": "light"
     },
     "output_type": "display_data"
    }
   ],
   "source": [
    "# Importing libraries for dataframe creation\n",
    "# and graph plotting\n",
    "import numpy as np\n",
    "import pandas as pd\n",
    "import seaborn as sns\n",
    "import matplotlib.pyplot as plt\n",
    "\n",
    "# Creating our own dataframe\n",
    "data = {\"Language\": [\"Python\", \"C++\", \"Java\"],\n",
    "\t\t\"Students\": [75, 50, 25]}\n",
    "\n",
    "# Now convert this dictionary type data into a pandas dataframe\n",
    "# specifying what are the column names\n",
    "df = pd.DataFrame(data, columns=['Language', 'Students'])\n",
    "\n",
    "\n",
    "# Defining the plot size\n",
    "plt.figure(figsize=(5, 5))\n",
    "\n",
    "# Defining the values for x-axis, y-axis\n",
    "# and from which dataframe the values are to be picked\n",
    "plots = sns.barplot(x=\"Language\", y=\"Students\", data=df)\n",
    "\n",
    "# Iterrating over the bars one-by-one\n",
    "for bar in plots.patches:\n",
    "\n",
    "\t# Using Matplotlib's annotate function and\n",
    "\t# passing the coordinates where the annotation shall be done\n",
    "\tplots.annotate(format(bar.get_height(), '.2f'),\n",
    "\t\t\t\t(bar.get_x() + bar.get_width() / 2,\n",
    "\t\t\t\t\tbar.get_height()), ha='center', va='center',\n",
    "\t\t\t\tsize=15, xytext=(0, 5),\n",
    "\t\t\t\ttextcoords='offset points')\n",
    "\n",
    "\n",
    "# Setting the title for the graph\n",
    "plt.title(\"Example 1\")\n",
    "\n",
    "# Finally showing the plot\n",
    "plt.show()\n"
   ]
  },
  {
   "cell_type": "code",
   "execution_count": 6,
   "metadata": {},
   "outputs": [
    {
     "name": "stdout",
     "output_type": "stream",
     "text": [
      "      name  marks       place gender  Rollno\n",
      "0     anil     50         hup   male      11\n",
      "1    sunil    100         hyd   male      12\n",
      "2  praveen     75         utr   male      13\n",
      "3     arun     80         kud   male      24\n",
      "4     chai     23          bg      F      22\n",
      "5     teju     24  vijayanagr      F      55\n",
      "6      lav     34     kengeri      F      28\n",
      "7   ankosh     72         gul   male      55\n",
      "8    madhu     22         tum      F      66\n",
      "9   rajesh     23        chak   male      23\n"
     ]
    },
    {
     "data": {
      "text/plain": [
       "<matplotlib.axes._subplots.AxesSubplot at 0x7f7deacfd490>"
      ]
     },
     "execution_count": 6,
     "metadata": {},
     "output_type": "execute_result"
    },
    {
     "data": {
      "image/png": "[encoded data removed]",
      "text/plain": [
       "<Figure size 432x288 with 1 Axes>"
      ]
     },
     "metadata": {
      "needs_background": "light"
     },
     "output_type": "display_data"
    }
   ],
   "source": [
    "# importing packages\n",
    "import pandas as pd\n",
    "import matplotlib.pyplot as plt\n",
    "\n",
    "# load dataset\n",
    "df = pd.read_excel(\"//home//anil//Desktop//marks.xlsx\")\n",
    "\n",
    "# view dataset\n",
    "print(df)\n",
    "\n",
    "# plot a Stacked Bar Chart using matplotlib\n",
    "df.plot(\n",
    "\tx = 'name',\n",
    "\tkind = 'barh',\n",
    "\tstacked = True,\n",
    "\ttitle = 'Stacked Bar Graph',\n",
    "\tmark_right = True)\n"
   ]
  },
  {
   "cell_type": "code",
   "execution_count": null,
   "metadata": {},
   "outputs": [],
   "source": []
  }
 ],
 "metadata": {
  "kernelspec": {
   "display_name": "Python 3",
   "language": "python",
   "name": "python3"
  },
  "language_info": {
   "codemirror_mode": {
    "name": "ipython",
    "version": 3
   },
   "file_extension": ".py",
   "mimetype": "text/x-python",
   "name": "python",
   "nbconvert_exporter": "python",
   "pygments_lexer": "ipython3",
   "version": "3.7.6"
  }
 },
 "nbformat": 4,
 "nbformat_minor": 4
}
